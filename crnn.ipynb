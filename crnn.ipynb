{
 "cells": [
  {
   "cell_type": "code",
   "execution_count": 6,
   "id": "84a1358b-013a-4012-ae5a-1e78c77c6539",
   "metadata": {},
   "outputs": [
    {
     "name": "stderr",
     "output_type": "stream",
     "text": [
      "C:\\Users\\zeng_hui\\AppData\\Local\\Temp\\ipykernel_19332\\2357867049.py:8: UserWarning: `input_shape` is undefined or non-square, or `rows` is not in [96, 128, 160, 192, 224]. Weights for input shape (224, 224) will be loaded as the default.\n",
      "  base_model = tf.keras.applications.MobileNetV2(input_shape=input_shape, include_top=False, weights='imagenet')\n"
     ]
    },
    {
     "name": "stdout",
     "output_type": "stream",
     "text": [
      "Downloading data from https://storage.googleapis.com/tensorflow/keras-applications/mobilenet_v2/mobilenet_v2_weights_tf_dim_ordering_tf_kernels_1.0_224_no_top.h5\n",
      "\u001b[1m9406464/9406464\u001b[0m \u001b[32m━━━━━━━━━━━━━━━━━━━━\u001b[0m\u001b[37m\u001b[0m \u001b[1m3s\u001b[0m 0us/step\n"
     ]
    }
   ],
   "source": [
    "import tensorflow as tf\n",
    "from tensorflow.keras import layers, models\n",
    "\n",
    "def bbox_loss(y_true, y_pred):\n",
    "    return tf.reduce_mean(tf.square(y_true - y_pred))\n",
    "\n",
    "def create_detection_model(input_shape, num_classes):\n",
    "    base_model = tf.keras.applications.MobileNetV2(input_shape=input_shape, include_top=False, weights='imagenet')\n",
    "    x = base_model.output\n",
    "    x = layers.GlobalAveragePooling2D()(x)\n",
    "    x = layers.Dense(1024, activation='relu')(x)\n",
    "    x = layers.Dense(num_classes * 4, activation='sigmoid')(x)  # 4 for bounding box coordinates\n",
    "    detection_model = models.Model(inputs=base_model.input, outputs=x)\n",
    "    return detection_model\n",
    "\n",
    "input_shape = (400, 300, 3)\n",
    "num_classes = 1  # 只检测一个类别，即字符\n",
    "detection_model = create_detection_model(input_shape, num_classes)\n",
    "detection_model.compile(optimizer='adam', loss=bbox_loss)"
   ]
  },
  {
   "cell_type": "code",
   "execution_count": null,
   "id": "0b75a1ec-17cd-4c1c-adf6-171e08f2cc5e",
   "metadata": {},
   "outputs": [],
   "source": [
    "def create_crnn_model(imgH, nc, nclass, nh):\n",
    "    input_data = layers.Input(shape=(imgH, None, nc), name='input')\n",
    "\n",
    "    cnn = layers.Conv2D(64, (3, 3), padding='same', activation='relu')(input_data)\n",
    "    cnn = layers.MaxPooling2D(pool_size=(2, 2))(cnn)\n",
    "    cnn = layers.Conv2D(128, (3, 3), padding='same', activation='relu')(cnn)\n",
    "    cnn = layers.MaxPooling2D(pool_size=(2, 2))(cnn)\n",
    "    cnn = layers.Conv2D(256, (3, 3), padding='same', activation='relu')(cnn)\n",
    "    cnn = layers.BatchNormalization()(cnn)\n",
    "    cnn = layers.Conv2D(256, (3, 3), padding='same', activation='relu')(cnn)\n",
    "    cnn = layers.MaxPooling2D(pool_size=(2, 1))(cnn)\n",
    "    cnn = layers.Conv2D(512, (3, 3), padding='same', activation='relu')(cnn)\n",
    "    cnn = layers.BatchNormalization()(cnn)\n",
    "    cnn = layers.Conv2D(512, (3, 3), padding='same', activation='relu')(cnn)\n",
    "    cnn = layers.MaxPooling2D(pool_size=(2, 1))(cnn)\n",
    "    cnn = layers.Conv2D(512, (2, 2), padding='valid', activation='relu')(cnn)\n",
    "\n",
    "    cnn = layers.Reshape(target_shape=(-1, 512))(cnn)\n",
    "    rnn = layers.Bidirectional(layers.LSTM(nh, return_sequences=True))(cnn)\n",
    "    rnn = layers.Bidirectional(layers.LSTM(nh, return_sequences=True))(rnn)\n",
    "    dense = layers.Dense(nclass, activation='softmax')(rnn)\n",
    "\n",
    "    crnn_model = models.Model(inputs=input_data, outputs=dense)\n",
    "    return crnn_model\n",
    "\n",
    "imgH = 32\n",
    "nc = 1  # 输入图像的通道数 (灰度图像)\n",
    "nclass = 10 + 1  # 10个数字和一个空白字符\n",
    "nh = 256  # LSTM的隐藏单元数\n",
    "\n",
    "crnn_model = create_crnn_model(imgH, nc, nclass, nh)\n",
    "crnn_model.compile(optimizer='adam', loss='ctc_loss')"
   ]
  },
  {
   "cell_type": "code",
   "execution_count": null,
   "id": "e95f8291-6522-4d7a-9104-4c2f3507791b",
   "metadata": {},
   "outputs": [],
   "source": [
    "def crop_image(image, bbox):\n",
    "    x_min, y_min, x_max, y_max = bbox\n",
    "    return image[y_min:y_max, x_min:x_max]"
   ]
  },
  {
   "cell_type": "code",
   "execution_count": null,
   "id": "a6c83c8e-8178-40eb-9ada-68c696001277",
   "metadata": {},
   "outputs": [],
   "source": [
    "import numpy as np\n",
    "\n",
    "def detect_and_recognize(image, detection_model, crnn_model, imgH, imgW):\n",
    "    # 预处理图像\n",
    "    input_image = cv2.resize(image, (400, 300))\n",
    "    image_src = input_image\n",
    "    # 灰度\n",
    "    gray = cv2.cvtColor(input_image, cv2.COLOR_BGR2GRAY)\n",
    "    # 中值滤波去噪\n",
    "    gray = cv2.medianBlur(gray, 5)\n",
    "    # 去照光\n",
    "    adaptive_thresh = cv2.adaptiveThreshold(gray, 255, cv2.ADAPTIVE_THRESH_GAUSSIAN_C,cv2.THRESH_BINARY, 11, 2)\n",
    "    \n",
    "    input_image = adaptive_thresh.astype('float32') / 255.0\n",
    "    input_image = np.expand_dims(input_image, axis=0)\n",
    "\n",
    "    # 检测字符位置\n",
    "    bboxes = detection_model.predict(input_image)[0]\n",
    "    bboxes = bboxes.reshape(-1, 4)\n",
    "\n",
    "    recognized_texts = []\n",
    "    for bbox in bboxes:\n",
    "        # 将边界框坐标还原到原始图像尺寸\n",
    "        bbox = bbox * [image.shape[1], image.shape[0], image.shape[1], image.shape[0]]\n",
    "        bbox = bbox.astype(int)\n",
    "\n",
    "        # 裁剪字符区域\n",
    "        cropped_image = crop_image(image, bbox)\n",
    "        cropped_image = cv2.resize(cropped_image, (imgW, imgH))\n",
    "        cropped_image = cropped_image.astype('float32') / 255.0\n",
    "        cropped_image = np.expand_dims(cropped_image, axis=-1)\n",
    "        cropped_image = np.expand_dims(cropped_image, axis=0)\n",
    "\n",
    "        # 识别字符\n",
    "        y_pred = crnn_model.predict(cropped_image)\n",
    "        y_pred = np.argmax(y_pred, axis=2)[0]\n",
    "        recognized_text = ''.join([str(c) for c in y_pred if c != -1])\n",
    "\n",
    "        recognized_texts.append(recognized_text)\n",
    "\n",
    "    return recognized_texts"
   ]
  },
  {
   "cell_type": "code",
   "execution_count": null,
   "id": "bec2387a-d52a-4448-bdcf-59726b936413",
   "metadata": {},
   "outputs": [],
   "source": [
    "import cv2\n",
    "\n",
    "# 加载训练好的目标检测模型和CRNN模型\n",
    "detection_model = create_detection_model(input_shape, num_classes)\n",
    "detection_model.load_weights('detection_model_weights.h5')\n",
    "\n",
    "crnn_model = create_crnn_model(imgH, nc, nclass, nh)\n",
    "crnn_model.load_weights('crnn_model_weights.h5')\n",
    "\n",
    "# 读取图像\n",
    "image_path = 'images/hefei_3188.jpg'\n",
    "image = cv2.imread(image_path, cv2.IMREAD_GRAYSCALE)\n",
    "\n",
    "# 使用组合模型进行字符检测和识别\n",
    "recognized_texts = detect_and_recognize(image, detection_model, crnn_model, imgH, 100)\n",
    "\n",
    "print(f'Recognized Texts: {recognized_texts}')"
   ]
  }
 ],
 "metadata": {
  "kernelspec": {
   "display_name": "Python 3 (ipykernel)",
   "language": "python",
   "name": "python3"
  },
  "language_info": {
   "codemirror_mode": {
    "name": "ipython",
    "version": 3
   },
   "file_extension": ".py",
   "mimetype": "text/x-python",
   "name": "python",
   "nbconvert_exporter": "python",
   "pygments_lexer": "ipython3",
   "version": "3.11.4"
  }
 },
 "nbformat": 4,
 "nbformat_minor": 5
}
