{
 "cells": [
  {
   "cell_type": "code",
   "execution_count": 73,
   "id": "a9e4a41b-9d0b-4b6f-82bb-f6943cd383af",
   "metadata": {},
   "outputs": [],
   "source": [
    "import cv2\n",
    "import numpy as np\n",
    "import pandas as pd"
   ]
  },
  {
   "cell_type": "code",
   "execution_count": 74,
   "id": "f2efe2c2-c5e9-4375-a7a2-5a321bcf2582",
   "metadata": {},
   "outputs": [],
   "source": [
    "df = pd.read_csv('images/标签.csv')\n",
    "image_dirname = 'hefei_3188.jpg'\n",
    "image_path = 'images/' + image_dirname\n",
    "block = df[(df['filename'] == image_dirname)]"
   ]
  },
  {
   "cell_type": "code",
   "execution_count": 75,
   "id": "5bc836cd-3f31-4dad-9c28-325e9e3708cc",
   "metadata": {},
   "outputs": [],
   "source": [
    "xmin = block['xmin'][0]\n",
    "xmax = block['xmax'][0]\n",
    "ymin = block['ymin'][0]\n",
    "ymax = block['ymax'][0]\n",
    "points = np.array([[block['xmin'][0], block['ymin'][0]], [block['xmax'][0], block['ymin'][0]], [block['xmax'][0], block['ymax'][0]], [block['xmin'][0], block['ymax'][0]]], dtype='float32')\n",
    "width = block['xmax'][0] - block['xmin'][0]\n",
    "height = block['ymax'][0] - block['ymin'][0]\n",
    "dst_points = np.array([[0, 0], [width - 1, 0], [width - 1, height - 1], [0, height - 1]], dtype='float32')"
   ]
  },
  {
   "cell_type": "code",
   "execution_count": 76,
   "id": "4bf42056-0a54-4286-adaf-f92aa997533c",
   "metadata": {},
   "outputs": [],
   "source": [
    "image = cv2.imread(image_path, cv2.IMREAD_COLOR)"
   ]
  },
  {
   "cell_type": "code",
   "execution_count": 77,
   "id": "961d3f71-b91a-472e-8448-f2951ace2176",
   "metadata": {},
   "outputs": [],
   "source": [
    "gray = cv2.cvtColor(image, cv2.COLOR_BGR2GRAY)"
   ]
  },
  {
   "cell_type": "code",
   "execution_count": 78,
   "id": "004f505f-a9ed-48f8-8f87-7413a6e0d079",
   "metadata": {},
   "outputs": [],
   "source": [
    "# 去照光\n",
    "adaptive_thresh = cv2.adaptiveThreshold(gray, 255, cv2.ADAPTIVE_THRESH_GAUSSIAN_C,\n",
    "                                        cv2.THRESH_BINARY, 11, 2)"
   ]
  },
  {
   "cell_type": "code",
   "execution_count": 79,
   "id": "24c083d6-095b-4b59-8ead-845854348641",
   "metadata": {},
   "outputs": [],
   "source": [
    "# 计算透视变换矩阵\n",
    "matrix = cv2.getPerspectiveTransform(points, dst_points)\n",
    "\n",
    "# 进行透视变换\n",
    "warped = cv2.warpPerspective(adaptive_thresh, matrix, (width, height))"
   ]
  },
  {
   "cell_type": "code",
   "execution_count": 80,
   "id": "00947122-0d41-437c-9c67-2392b1104567",
   "metadata": {},
   "outputs": [],
   "source": [
    "cv2.imshow('Processed Image', warped)\n",
    "cv2.waitKey(0)\n",
    "cv2.destroyAllWindows()"
   ]
  },
  {
   "cell_type": "code",
   "execution_count": null,
   "id": "bc88c46f-e287-424d-ac4b-81f186cf26ad",
   "metadata": {},
   "outputs": [],
   "source": []
  }
 ],
 "metadata": {
  "kernelspec": {
   "display_name": "Python 3 (ipykernel)",
   "language": "python",
   "name": "python3"
  },
  "language_info": {
   "codemirror_mode": {
    "name": "ipython",
    "version": 3
   },
   "file_extension": ".py",
   "mimetype": "text/x-python",
   "name": "python",
   "nbconvert_exporter": "python",
   "pygments_lexer": "ipython3",
   "version": "3.11.4"
  }
 },
 "nbformat": 4,
 "nbformat_minor": 5
}
