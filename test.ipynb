{
 "cells": [
  {
   "cell_type": "code",
   "execution_count": 10,
   "id": "a9e4a41b-9d0b-4b6f-82bb-f6943cd383af",
   "metadata": {},
   "outputs": [],
   "source": [
    "import cv2\n",
    "import numpy as np\n",
    "import pandas as pd"
   ]
  },
  {
   "cell_type": "code",
   "execution_count": 12,
   "id": "f2efe2c2-c5e9-4375-a7a2-5a321bcf2582",
   "metadata": {},
   "outputs": [],
   "source": [
    "df = pd.read_csv('images/labels.csv')\n",
    "image_dirname = 'hefei_3188.jpg'\n",
    "image_path = 'images/' + image_dirname"
   ]
  },
  {
   "cell_type": "code",
   "execution_count": 14,
   "id": "4bf42056-0a54-4286-adaf-f92aa997533c",
   "metadata": {},
   "outputs": [],
   "source": [
    "image = cv2.imread(image_path, cv2.IMREAD_COLOR)"
   ]
  },
  {
   "cell_type": "code",
   "execution_count": 18,
   "id": "961d3f71-b91a-472e-8448-f2951ace2176",
   "metadata": {},
   "outputs": [],
   "source": [
    "gray = cv2.cvtColor(image, cv2.COLOR_BGR2GRAY)\n",
    "gray = cv2.medianBlur(gray, 5)"
   ]
  },
  {
   "cell_type": "code",
   "execution_count": 19,
   "id": "004f505f-a9ed-48f8-8f87-7413a6e0d079",
   "metadata": {},
   "outputs": [],
   "source": [
    "# 去照光\n",
    "adaptive_thresh = cv2.adaptiveThreshold(gray, 255, cv2.ADAPTIVE_THRESH_GAUSSIAN_C,\n",
    "                                        cv2.THRESH_BINARY, 11, 2)"
   ]
  },
  {
   "cell_type": "code",
   "execution_count": 20,
   "id": "00947122-0d41-437c-9c67-2392b1104567",
   "metadata": {},
   "outputs": [],
   "source": [
    "cv2.imshow('Processed Image', adaptive_thresh)\n",
    "cv2.waitKey(0)\n",
    "cv2.destroyAllWindows()"
   ]
  },
  {
   "cell_type": "code",
   "execution_count": null,
   "id": "bc88c46f-e287-424d-ac4b-81f186cf26ad",
   "metadata": {},
   "outputs": [],
   "source": []
  },
  {
   "cell_type": "code",
   "execution_count": null,
   "id": "05a04482-f8d4-4f42-b400-9f8fd15a09ba",
   "metadata": {},
   "outputs": [],
   "source": []
  },
  {
   "cell_type": "code",
   "execution_count": null,
   "id": "4c3f87fe-8e61-438a-92c4-4e9716bbf81b",
   "metadata": {},
   "outputs": [],
   "source": []
  }
 ],
 "metadata": {
  "kernelspec": {
   "display_name": "Python 3 (ipykernel)",
   "language": "python",
   "name": "python3"
  },
  "language_info": {
   "codemirror_mode": {
    "name": "ipython",
    "version": 3
   },
   "file_extension": ".py",
   "mimetype": "text/x-python",
   "name": "python",
   "nbconvert_exporter": "python",
   "pygments_lexer": "ipython3",
   "version": "3.11.4"
  }
 },
 "nbformat": 4,
 "nbformat_minor": 5
}
