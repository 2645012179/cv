{
 "cells": [
  {
   "cell_type": "code",
   "execution_count": 28,
   "id": "e2651a3a-1c9a-446a-8f9e-fe3afc006e91",
   "metadata": {},
   "outputs": [],
   "source": [
    "import cv2\n",
    "import numpy as np\n",
    "import pandas as pd\n",
    "import xml.etree.ElementTree as ET"
   ]
  },
  {
   "cell_type": "code",
   "execution_count": 29,
   "id": "eea7809b-1dff-4ea3-9358-bb0a2d3a6b1b",
   "metadata": {},
   "outputs": [],
   "source": [
    "tree = ET.parse('train/hefei_3188.xml')\n",
    "root = tree.getroot()"
   ]
  },
  {
   "cell_type": "code",
   "execution_count": 37,
   "id": "44d16a1f-625a-4907-b13f-699a3e6413b3",
   "metadata": {},
   "outputs": [
    {
     "data": {
      "text/plain": [
       "19"
      ]
     },
     "execution_count": 37,
     "metadata": {},
     "output_type": "execute_result"
    }
   ],
   "source": [
    "# 提取对象和边界框数据\n",
    "data = []\n",
    "for obj in root.findall('object'):\n",
    "    name = obj.find('name').text\n",
    "    bndbox = obj.find('bndbox')\n",
    "    xmin = int(bndbox.find('xmin').text)\n",
    "    ymin = int(bndbox.find('ymin').text)\n",
    "    xmax = int(bndbox.find('xmax').text)\n",
    "    ymax = int(bndbox.find('ymax').text)\n",
    "    data.append([name, xmin, ymin, xmax, ymax])\n",
    "\n",
    "# 转换为 DataFrame\n",
    "df = pd.DataFrame(data, columns=['name', 'xmin', 'ymin', 'xmax', 'ymax'])\n",
    "\n",
    "xmin = df['xmin'][0]\n",
    "xmax = df['xmax'][0]\n",
    "ymin = df['ymin'][0]\n",
    "ymax = df['ymax'][0]\n",
    "\n",
    "xmax - xmin"
   ]
  },
  {
   "cell_type": "code",
   "execution_count": 38,
   "id": "385f6362-049e-44c2-8181-c257df934361",
   "metadata": {},
   "outputs": [
    {
     "data": {
      "text/plain": [
       "(296, 400, 3)"
      ]
     },
     "execution_count": 38,
     "metadata": {},
     "output_type": "execute_result"
    }
   ],
   "source": [
    "image_dirname = 'hefei_3188.jpg'\n",
    "image_path = 'images/' + image_dirname\n",
    "image = cv2.imread(image_path, cv2.IMREAD_COLOR)\n",
    "image.shape"
   ]
  },
  {
   "cell_type": "code",
   "execution_count": 39,
   "id": "14c47746-49a6-4267-85dc-aab5eaf7f391",
   "metadata": {},
   "outputs": [],
   "source": [
    "gray = cv2.cvtColor(image, cv2.COLOR_BGR2GRAY)\n",
    "# 中值滤波去噪\n",
    "gray = cv2.medianBlur(gray, 5)"
   ]
  },
  {
   "cell_type": "code",
   "execution_count": 40,
   "id": "a0ae7f34-6c36-4cfd-8dfb-33a24ba5e474",
   "metadata": {},
   "outputs": [],
   "source": [
    "points = np.array([[xmin, ymin], [xmax, ymin], [xmax, ymax], [xmin, ymax]], dtype='float32')\n",
    "width = xmax - xmin\n",
    "height = ymax - ymin\n",
    "dst_points = np.array([[0, 0], [width - 1, 0], [width - 1, height - 1], [0, height - 1]], dtype='float32')"
   ]
  },
  {
   "cell_type": "code",
   "execution_count": 41,
   "id": "c2071474-f15f-4a5c-b368-4cc70d8e8cd5",
   "metadata": {},
   "outputs": [],
   "source": [
    "# 去照光\n",
    "adaptive_thresh = cv2.adaptiveThreshold(gray, 255, cv2.ADAPTIVE_THRESH_GAUSSIAN_C,cv2.THRESH_BINARY, 11, 2)"
   ]
  },
  {
   "cell_type": "code",
   "execution_count": 42,
   "id": "e2aa4b86-f2e7-4a8a-88cb-c9c796d7b2ed",
   "metadata": {},
   "outputs": [
    {
     "data": {
      "text/plain": [
       "(32, 20, 1)"
      ]
     },
     "execution_count": 42,
     "metadata": {},
     "output_type": "execute_result"
    }
   ],
   "source": [
    "# 计算透视变换矩阵\n",
    "matrix = cv2.getPerspectiveTransform(points, dst_points)\n",
    "\n",
    "# 进行透视变换\n",
    "warped = cv2.warpPerspective(adaptive_thresh, matrix, (width, height))\n",
    "\n",
    "res_image = cv2.resize(warped,(20,32))\n",
    "\n",
    "solved_image = np.expand_dims(res_image, axis=-1)\n",
    "\n",
    "solved_image.shape"
   ]
  },
  {
   "cell_type": "code",
   "execution_count": 43,
   "id": "efee6088-e522-44b5-b01f-844bbe9feb4f",
   "metadata": {},
   "outputs": [],
   "source": [
    "cv2.imshow('Processed Image', solved_image)\n",
    "cv2.waitKey(0)\n",
    "cv2.destroyAllWindows()"
   ]
  },
  {
   "cell_type": "code",
   "execution_count": null,
   "id": "52ed2dbb-0e43-46c5-be9a-a245a7a2b450",
   "metadata": {},
   "outputs": [],
   "source": []
  }
 ],
 "metadata": {
  "kernelspec": {
   "display_name": "Python 3 (ipykernel)",
   "language": "python",
   "name": "python3"
  },
  "language_info": {
   "codemirror_mode": {
    "name": "ipython",
    "version": 3
   },
   "file_extension": ".py",
   "mimetype": "text/x-python",
   "name": "python",
   "nbconvert_exporter": "python",
   "pygments_lexer": "ipython3",
   "version": "3.11.4"
  }
 },
 "nbformat": 4,
 "nbformat_minor": 5
}
